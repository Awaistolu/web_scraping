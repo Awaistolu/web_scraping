{
 "cells": [
  {
   "cell_type": "code",
   "execution_count": 1,
   "metadata": {},
   "outputs": [],
   "source": [
    "import numpy as np\n",
    "import pandas as pd\n",
    "import requests\n",
    "from bs4 import BeautifulSoup"
   ]
  },
  {
   "cell_type": "code",
   "execution_count": 2,
   "metadata": {},
   "outputs": [],
   "source": [
    "url='https://en.wikipedia.org/wiki/List_of_cities_in_Pakistan_by_population'\n",
    "response=requests.get(url).text"
   ]
  },
  {
   "cell_type": "code",
   "execution_count": 3,
   "metadata": {},
   "outputs": [],
   "source": [
    "soup=BeautifulSoup(response)"
   ]
  },
  {
   "cell_type": "code",
   "execution_count": 4,
   "metadata": {},
   "outputs": [],
   "source": [
    "table=soup.find('table',class_='sortable wikitable')"
   ]
  },
  {
   "cell_type": "code",
   "execution_count": 5,
   "metadata": {},
   "outputs": [],
   "source": [
    "table_tr=table.find_all('tr')"
   ]
  },
  {
   "cell_type": "code",
   "execution_count": 6,
   "metadata": {},
   "outputs": [],
   "source": [
    "table_td1=table.find_all('td')"
   ]
  },
  {
   "cell_type": "code",
   "execution_count": 7,
   "metadata": {},
   "outputs": [],
   "source": [
    "td=table_tr[1].find_all('td')"
   ]
  },
  {
   "cell_type": "code",
   "execution_count": 8,
   "metadata": {},
   "outputs": [],
   "source": [
    "df=pd.DataFrame()\n",
    "name=[]\n",
    "population=[]\n",
    "population2=[]\n",
    "change=[]\n",
    "provinces=[]\n",
    "for i in range(1,len(table_tr)-1):\n",
    "    table_td=table_tr[i].find_all('td')\n",
    "    name = table_td[1].text.strip()\n",
    "    population = table_td[2].text.strip()\n",
    "    population2 = table_td[3].text.strip()\n",
    "    change = table_td[4].text.strip()\n",
    "    provinces = table_td[5].text.strip()\n",
    "    d={'name':name ,'population-2017':population ,'population-1998':population2 ,'change':change ,'provinces':provinces }\n",
    "    df=df.append(d, ignore_index=True)"
   ]
  },
  {
   "cell_type": "code",
   "execution_count": 9,
   "metadata": {},
   "outputs": [],
   "source": [
    "city=df.loc[:,['name','population-2017','population-1998','change','provinces']]"
   ]
  },
  {
   "cell_type": "code",
   "execution_count": 10,
   "metadata": {},
   "outputs": [
    {
     "data": {
      "text/html": [
       "<div>\n",
       "<style scoped>\n",
       "    .dataframe tbody tr th:only-of-type {\n",
       "        vertical-align: middle;\n",
       "    }\n",
       "\n",
       "    .dataframe tbody tr th {\n",
       "        vertical-align: top;\n",
       "    }\n",
       "\n",
       "    .dataframe thead th {\n",
       "        text-align: right;\n",
       "    }\n",
       "</style>\n",
       "<table border=\"1\" class=\"dataframe\">\n",
       "  <thead>\n",
       "    <tr style=\"text-align: right;\">\n",
       "      <th></th>\n",
       "      <th>name</th>\n",
       "      <th>population-2017</th>\n",
       "      <th>population-1998</th>\n",
       "      <th>change</th>\n",
       "      <th>provinces</th>\n",
       "    </tr>\n",
       "  </thead>\n",
       "  <tbody>\n",
       "    <tr>\n",
       "      <th>0</th>\n",
       "      <td>Karachi</td>\n",
       "      <td>14,916,456</td>\n",
       "      <td>9,339,023</td>\n",
       "      <td>+59.72%</td>\n",
       "      <td>Sindh</td>\n",
       "    </tr>\n",
       "    <tr>\n",
       "      <th>1</th>\n",
       "      <td>Lahore</td>\n",
       "      <td>11,126,285</td>\n",
       "      <td>5,209,088</td>\n",
       "      <td>+113.59%</td>\n",
       "      <td>Punjab</td>\n",
       "    </tr>\n",
       "    <tr>\n",
       "      <th>2</th>\n",
       "      <td>Faisalabad</td>\n",
       "      <td>3,204,726</td>\n",
       "      <td>2,008,861</td>\n",
       "      <td>+59.53%</td>\n",
       "      <td>Punjab</td>\n",
       "    </tr>\n",
       "    <tr>\n",
       "      <th>3</th>\n",
       "      <td>Rawalpindi</td>\n",
       "      <td>2,098,231</td>\n",
       "      <td>1,409,768</td>\n",
       "      <td>+48.84%</td>\n",
       "      <td>Punjab</td>\n",
       "    </tr>\n",
       "    <tr>\n",
       "      <th>4</th>\n",
       "      <td>Gujranwala</td>\n",
       "      <td>2,027,001</td>\n",
       "      <td>1,132,509</td>\n",
       "      <td>+78.98%</td>\n",
       "      <td>Punjab</td>\n",
       "    </tr>\n",
       "    <tr>\n",
       "      <th>...</th>\n",
       "      <td>...</td>\n",
       "      <td>...</td>\n",
       "      <td>...</td>\n",
       "      <td>...</td>\n",
       "      <td>...</td>\n",
       "    </tr>\n",
       "    <tr>\n",
       "      <th>95</th>\n",
       "      <td>Kamber Ali Khan</td>\n",
       "      <td>101,474</td>\n",
       "      <td>58,369</td>\n",
       "      <td>+73.85%</td>\n",
       "      <td>Sindh</td>\n",
       "    </tr>\n",
       "    <tr>\n",
       "      <th>96</th>\n",
       "      <td>Mirpur Mathelo</td>\n",
       "      <td>100,760</td>\n",
       "      <td>42,421</td>\n",
       "      <td>+137.52%</td>\n",
       "      <td>Sindh</td>\n",
       "    </tr>\n",
       "    <tr>\n",
       "      <th>97</th>\n",
       "      <td>Kandhkot</td>\n",
       "      <td>100,698</td>\n",
       "      <td>67,566</td>\n",
       "      <td>+49.04%</td>\n",
       "      <td>Sindh</td>\n",
       "    </tr>\n",
       "    <tr>\n",
       "      <th>98</th>\n",
       "      <td>Bhalwal</td>\n",
       "      <td>100,135</td>\n",
       "      <td>61,523</td>\n",
       "      <td>+62.76%</td>\n",
       "      <td>Punjab</td>\n",
       "    </tr>\n",
       "    <tr>\n",
       "      <th>99</th>\n",
       "      <td>Gwadar</td>\n",
       "      <td>90,762</td>\n",
       "      <td>45,768</td>\n",
       "      <td>+98.31%</td>\n",
       "      <td>Balochistan</td>\n",
       "    </tr>\n",
       "  </tbody>\n",
       "</table>\n",
       "<p>100 rows × 5 columns</p>\n",
       "</div>"
      ],
      "text/plain": [
       "               name population-2017 population-1998    change    provinces\n",
       "0           Karachi      14,916,456       9,339,023   +59.72%        Sindh\n",
       "1            Lahore      11,126,285       5,209,088  +113.59%       Punjab\n",
       "2        Faisalabad       3,204,726       2,008,861   +59.53%       Punjab\n",
       "3        Rawalpindi       2,098,231       1,409,768   +48.84%       Punjab\n",
       "4        Gujranwala       2,027,001       1,132,509   +78.98%       Punjab\n",
       "..              ...             ...             ...       ...          ...\n",
       "95  Kamber Ali Khan         101,474          58,369   +73.85%        Sindh\n",
       "96   Mirpur Mathelo         100,760          42,421  +137.52%        Sindh\n",
       "97         Kandhkot         100,698          67,566   +49.04%        Sindh\n",
       "98          Bhalwal         100,135          61,523   +62.76%       Punjab\n",
       "99           Gwadar          90,762          45,768   +98.31%  Balochistan\n",
       "\n",
       "[100 rows x 5 columns]"
      ]
     },
     "execution_count": 10,
     "metadata": {},
     "output_type": "execute_result"
    }
   ],
   "source": [
    "city"
   ]
  },
  {
   "cell_type": "code",
   "execution_count": 11,
   "metadata": {},
   "outputs": [],
   "source": [
    "city.to_csv('pakistan_cities_data.csv')"
   ]
  },
  {
   "cell_type": "code",
   "execution_count": null,
   "metadata": {},
   "outputs": [],
   "source": []
  }
 ],
 "metadata": {
  "kernelspec": {
   "display_name": "Python 3",
   "language": "python",
   "name": "python3"
  },
  "language_info": {
   "codemirror_mode": {
    "name": "ipython",
    "version": 3
   },
   "file_extension": ".py",
   "mimetype": "text/x-python",
   "name": "python",
   "nbconvert_exporter": "python",
   "pygments_lexer": "ipython3",
   "version": "3.8.5"
  }
 },
 "nbformat": 4,
 "nbformat_minor": 4
}
