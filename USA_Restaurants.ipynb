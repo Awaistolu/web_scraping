{
  "nbformat": 4,
  "nbformat_minor": 0,
  "metadata": {
    "colab": {
      "name": "USA_Restaurants",
      "provenance": [],
      "authorship_tag": "ABX9TyPymdAYrsMAEQ2Kr7RD3/fR",
      "include_colab_link": true
    },
    "kernelspec": {
      "name": "python3",
      "display_name": "Python 3"
    },
    "language_info": {
      "name": "python"
    }
  },
  "cells": [
    {
      "cell_type": "markdown",
      "metadata": {
        "id": "view-in-github",
        "colab_type": "text"
      },
      "source": [
        "<a href=\"https://colab.research.google.com/github/Tolu786/web_scraping/blob/main/USA_Restaurants.ipynb\" target=\"_parent\"><img src=\"https://colab.research.google.com/assets/colab-badge.svg\" alt=\"Open In Colab\"/></a>"
      ]
    },
    {
      "cell_type": "code",
      "execution_count": null,
      "metadata": {
        "id": "LkjCcZDclPiF"
      },
      "outputs": [],
      "source": [
        "import numpy as np\n",
        "import pandas as pd\n",
        "import requests\n",
        "from bs4 import BeautifulSoup"
      ]
    },
    {
      "cell_type": "code",
      "source": [
        "url='https://www.yellowpages.ca/search/si/{}/Restaurants/Upper+Wentworth+Street+Hamilton+ON'.formate()"
      ],
      "metadata": {
        "id": "fsmSmjgdlmiR"
      },
      "execution_count": null,
      "outputs": []
    },
    {
      "cell_type": "code",
      "source": [
        "headers={'User-Agent':'Mozilla/5.0 (Windows NT 6.3; Win64; x64)AppleWebKit/537.36 (KHTML, like Gecko) Chrome/80.0.3987.162 Safari/537.36'}\n",
        "response = requests.get(url, headers=headers).text"
      ],
      "metadata": {
        "id": "-TBOlFR2mjAw"
      },
      "execution_count": null,
      "outputs": []
    },
    {
      "cell_type": "code",
      "source": [
        "soup = BeautifulSoup(response,'lxml')"
      ],
      "metadata": {
        "id": "Eq00e1Knnwih"
      },
      "execution_count": null,
      "outputs": []
    },
    {
      "cell_type": "code",
      "source": [
        "restaurants = soup.find_all('div', class_=\"listing__content__wrapper\")"
      ],
      "metadata": {
        "id": "ESwo-bqzn7Zv"
      },
      "execution_count": null,
      "outputs": []
    },
    {
      "cell_type": "code",
      "source": [
        "len(restaurants)"
      ],
      "metadata": {
        "colab": {
          "base_uri": "https://localhost:8080/"
        },
        "id": "V2NApvxPn-qQ",
        "outputId": "49c3c8e7-f7af-485a-bfaa-c30850f3fef1"
      },
      "execution_count": null,
      "outputs": [
        {
          "output_type": "execute_result",
          "data": {
            "text/plain": [
              "35"
            ]
          },
          "metadata": {},
          "execution_count": 53
        }
      ]
    },
    {
      "cell_type": "code",
      "source": [
        "restaurants[1].find('h3', class_='listing__name').text.strip()"
      ],
      "metadata": {
        "colab": {
          "base_uri": "https://localhost:8080/",
          "height": 35
        },
        "id": "gbxx_wgEphxP",
        "outputId": "6ecaea21-a2da-476a-9d59-f6ab67c5fb47"
      },
      "execution_count": null,
      "outputs": [
        {
          "output_type": "execute_result",
          "data": {
            "application/vnd.google.colaboratory.intrinsic+json": {
              "type": "string"
            },
            "text/plain": [
              "'Le Chinois Express'"
            ]
          },
          "metadata": {},
          "execution_count": 58
        }
      ]
    },
    {
      "cell_type": "code",
      "source": [
        "restaurants[1].find_all('div',class_='listing__address')[0].text.strip()"
      ],
      "metadata": {
        "colab": {
          "base_uri": "https://localhost:8080/",
          "height": 35
        },
        "id": "HSiFpPbTpwrf",
        "outputId": "6a465f2d-3e2b-4105-c8e7-fbdc436fe7d4"
      },
      "execution_count": null,
      "outputs": [
        {
          "output_type": "execute_result",
          "data": {
            "application/vnd.google.colaboratory.intrinsic+json": {
              "type": "string"
            },
            "text/plain": [
              "'5-65 Mall Rd, Hamilton, ON L8V 5B8\\nGet directions'"
            ]
          },
          "metadata": {},
          "execution_count": 64
        }
      ]
    },
    {
      "cell_type": "code",
      "source": [
        "restaurants[1].find_all('li',class_='mlr__submenu__item')[0].text.strip()"
      ],
      "metadata": {
        "colab": {
          "base_uri": "https://localhost:8080/",
          "height": 35
        },
        "id": "CQaovFShxRQx",
        "outputId": "20b911ab-cdbc-4540-9655-0c8d291d65d5"
      },
      "execution_count": null,
      "outputs": [
        {
          "output_type": "execute_result",
          "data": {
            "application/vnd.google.colaboratory.intrinsic+json": {
              "type": "string"
            },
            "text/plain": [
              "'905-388-0033'"
            ]
          },
          "metadata": {},
          "execution_count": 71
        }
      ]
    },
    {
      "cell_type": "code",
      "source": [
        "final=pd.DataFrame()\n",
        "for j in range(1,23):\n",
        "  url='https://www.yellowpages.ca/search/si/{}/Restaurants/Upper+Wentworth+Street+Hamilton+ON'.format(j)\n",
        "  headers={'User-Agent':'Mozilla/5.0 (Windows NT 6.3; Win64; x64)AppleWebKit/537.36 (KHTML, like Gecko) Chrome/80.0.3987.162 Safari/537.36'}\n",
        "  response = requests.get(url, headers=headers).text\n",
        "  soup = BeautifulSoup(response,'lxml')\n",
        "  restaurants = soup.find_all('div', class_=\"listing__content__wrapper\")\n",
        "\n",
        "\n",
        "  name=[]\n",
        "  address=[]\n",
        "  phone_no=[]\n",
        "\n",
        "  for i in restaurants:\n",
        "    name.append(i.find('h3', class_='listing__name').text.strip())\n",
        "    try:\n",
        "      address.append(i.find_all('div',class_='listing__address')[0].text.strip())\n",
        "    except:\n",
        "      address.append(np.nan)\n",
        "    try:\n",
        "      phone_no.append(i.find_all('li',class_='mlr__submenu__item')[0].text.strip())\n",
        "    except:\n",
        "      phone_no.append(np.nan)\n",
        "  d={'Name':name,'Address':address,'Phone_No':phone_no}\n",
        "  df=pd.DataFrame(d)\n",
        "  final=final.append(df)"
      ],
      "metadata": {
        "id": "teb6qtUHySqR"
      },
      "execution_count": null,
      "outputs": []
    },
    {
      "cell_type": "code",
      "source": [
        "final"
      ],
      "metadata": {
        "colab": {
          "base_uri": "https://localhost:8080/",
          "height": 424
        },
        "id": "kc4_NQhkzv7d",
        "outputId": "be87607d-7c6f-4c1a-885f-275b91033353"
      },
      "execution_count": null,
      "outputs": [
        {
          "output_type": "execute_result",
          "data": {
            "text/html": [
              "\n",
              "  <div id=\"df-2caad48b-128c-4266-92d6-b2762f64eeba\">\n",
              "    <div class=\"colab-df-container\">\n",
              "      <div>\n",
              "<style scoped>\n",
              "    .dataframe tbody tr th:only-of-type {\n",
              "        vertical-align: middle;\n",
              "    }\n",
              "\n",
              "    .dataframe tbody tr th {\n",
              "        vertical-align: top;\n",
              "    }\n",
              "\n",
              "    .dataframe thead th {\n",
              "        text-align: right;\n",
              "    }\n",
              "</style>\n",
              "<table border=\"1\" class=\"dataframe\">\n",
              "  <thead>\n",
              "    <tr style=\"text-align: right;\">\n",
              "      <th></th>\n",
              "      <th>Name</th>\n",
              "      <th>Address</th>\n",
              "      <th>Phone_No</th>\n",
              "    </tr>\n",
              "  </thead>\n",
              "  <tbody>\n",
              "    <tr>\n",
              "      <th>0</th>\n",
              "      <td>Safin Grill</td>\n",
              "      <td>6-65 Mall Rd, Hamilton, ON L8V 5B8\\nGet direct...</td>\n",
              "      <td>905-318-4444</td>\n",
              "    </tr>\n",
              "    <tr>\n",
              "      <th>1</th>\n",
              "      <td>Le Chinois Express</td>\n",
              "      <td>5-65 Mall Rd, Hamilton, ON L8V 5B8\\nGet direct...</td>\n",
              "      <td>905-388-0033</td>\n",
              "    </tr>\n",
              "    <tr>\n",
              "      <th>2</th>\n",
              "      <td>Subway</td>\n",
              "      <td>920 Upper Wentworth St, Hamilton, ON L9A 5C5\\n...</td>\n",
              "      <td>905-318-8383</td>\n",
              "    </tr>\n",
              "    <tr>\n",
              "      <th>3</th>\n",
              "      <td>Little Saigon</td>\n",
              "      <td>4-66 Mall Rd, Hamilton, ON L8V 5B9\\nGet direct...</td>\n",
              "      <td>905-389-9826</td>\n",
              "    </tr>\n",
              "    <tr>\n",
              "      <th>4</th>\n",
              "      <td>Fez Family Restaurant</td>\n",
              "      <td>4-66 Mall Rd, Hamilton, ON L8V 5B9\\nGet direct...</td>\n",
              "      <td>905-389-5773</td>\n",
              "    </tr>\n",
              "    <tr>\n",
              "      <th>...</th>\n",
              "      <td>...</td>\n",
              "      <td>...</td>\n",
              "      <td>...</td>\n",
              "    </tr>\n",
              "    <tr>\n",
              "      <th>30</th>\n",
              "      <td>Papa John's Pizza</td>\n",
              "      <td>1096 Barton St East, Hamilton, ON L8H 2V1\\nGet...</td>\n",
              "      <td>289-768-6536</td>\n",
              "    </tr>\n",
              "    <tr>\n",
              "      <th>31</th>\n",
              "      <td>Wah Sardaarji</td>\n",
              "      <td>77 James St N, Hamilton, ON L8R 2K3\\nGet direc...</td>\n",
              "      <td>289-925-6445</td>\n",
              "    </tr>\n",
              "    <tr>\n",
              "      <th>32</th>\n",
              "      <td>Freshii</td>\n",
              "      <td>2 King St W, Hamilton, ON L8P 1A1\\nGet directions</td>\n",
              "      <td>289-919-1345</td>\n",
              "    </tr>\n",
              "    <tr>\n",
              "      <th>33</th>\n",
              "      <td>BeaverTails</td>\n",
              "      <td>300 Taylor Rd, Niagara-on-the-Lake, ON L0S 1J0...</td>\n",
              "      <td>905-685-5762</td>\n",
              "    </tr>\n",
              "    <tr>\n",
              "      <th>34</th>\n",
              "      <td>Azal Restaurant</td>\n",
              "      <td>107-90 Wellington St N, Hamilton, ON L8R 1N1\\n...</td>\n",
              "      <td>289-389-1240</td>\n",
              "    </tr>\n",
              "  </tbody>\n",
              "</table>\n",
              "<p>770 rows × 3 columns</p>\n",
              "</div>\n",
              "      <button class=\"colab-df-convert\" onclick=\"convertToInteractive('df-2caad48b-128c-4266-92d6-b2762f64eeba')\"\n",
              "              title=\"Convert this dataframe to an interactive table.\"\n",
              "              style=\"display:none;\">\n",
              "        \n",
              "  <svg xmlns=\"http://www.w3.org/2000/svg\" height=\"24px\"viewBox=\"0 0 24 24\"\n",
              "       width=\"24px\">\n",
              "    <path d=\"M0 0h24v24H0V0z\" fill=\"none\"/>\n",
              "    <path d=\"M18.56 5.44l.94 2.06.94-2.06 2.06-.94-2.06-.94-.94-2.06-.94 2.06-2.06.94zm-11 1L8.5 8.5l.94-2.06 2.06-.94-2.06-.94L8.5 2.5l-.94 2.06-2.06.94zm10 10l.94 2.06.94-2.06 2.06-.94-2.06-.94-.94-2.06-.94 2.06-2.06.94z\"/><path d=\"M17.41 7.96l-1.37-1.37c-.4-.4-.92-.59-1.43-.59-.52 0-1.04.2-1.43.59L10.3 9.45l-7.72 7.72c-.78.78-.78 2.05 0 2.83L4 21.41c.39.39.9.59 1.41.59.51 0 1.02-.2 1.41-.59l7.78-7.78 2.81-2.81c.8-.78.8-2.07 0-2.86zM5.41 20L4 18.59l7.72-7.72 1.47 1.35L5.41 20z\"/>\n",
              "  </svg>\n",
              "      </button>\n",
              "      \n",
              "  <style>\n",
              "    .colab-df-container {\n",
              "      display:flex;\n",
              "      flex-wrap:wrap;\n",
              "      gap: 12px;\n",
              "    }\n",
              "\n",
              "    .colab-df-convert {\n",
              "      background-color: #E8F0FE;\n",
              "      border: none;\n",
              "      border-radius: 50%;\n",
              "      cursor: pointer;\n",
              "      display: none;\n",
              "      fill: #1967D2;\n",
              "      height: 32px;\n",
              "      padding: 0 0 0 0;\n",
              "      width: 32px;\n",
              "    }\n",
              "\n",
              "    .colab-df-convert:hover {\n",
              "      background-color: #E2EBFA;\n",
              "      box-shadow: 0px 1px 2px rgba(60, 64, 67, 0.3), 0px 1px 3px 1px rgba(60, 64, 67, 0.15);\n",
              "      fill: #174EA6;\n",
              "    }\n",
              "\n",
              "    [theme=dark] .colab-df-convert {\n",
              "      background-color: #3B4455;\n",
              "      fill: #D2E3FC;\n",
              "    }\n",
              "\n",
              "    [theme=dark] .colab-df-convert:hover {\n",
              "      background-color: #434B5C;\n",
              "      box-shadow: 0px 1px 3px 1px rgba(0, 0, 0, 0.15);\n",
              "      filter: drop-shadow(0px 1px 2px rgba(0, 0, 0, 0.3));\n",
              "      fill: #FFFFFF;\n",
              "    }\n",
              "  </style>\n",
              "\n",
              "      <script>\n",
              "        const buttonEl =\n",
              "          document.querySelector('#df-2caad48b-128c-4266-92d6-b2762f64eeba button.colab-df-convert');\n",
              "        buttonEl.style.display =\n",
              "          google.colab.kernel.accessAllowed ? 'block' : 'none';\n",
              "\n",
              "        async function convertToInteractive(key) {\n",
              "          const element = document.querySelector('#df-2caad48b-128c-4266-92d6-b2762f64eeba');\n",
              "          const dataTable =\n",
              "            await google.colab.kernel.invokeFunction('convertToInteractive',\n",
              "                                                     [key], {});\n",
              "          if (!dataTable) return;\n",
              "\n",
              "          const docLinkHtml = 'Like what you see? Visit the ' +\n",
              "            '<a target=\"_blank\" href=https://colab.research.google.com/notebooks/data_table.ipynb>data table notebook</a>'\n",
              "            + ' to learn more about interactive tables.';\n",
              "          element.innerHTML = '';\n",
              "          dataTable['output_type'] = 'display_data';\n",
              "          await google.colab.output.renderOutput(dataTable, element);\n",
              "          const docLink = document.createElement('div');\n",
              "          docLink.innerHTML = docLinkHtml;\n",
              "          element.appendChild(docLink);\n",
              "        }\n",
              "      </script>\n",
              "    </div>\n",
              "  </div>\n",
              "  "
            ],
            "text/plain": [
              "                     Name                                            Address  \\\n",
              "0             Safin Grill  6-65 Mall Rd, Hamilton, ON L8V 5B8\\nGet direct...   \n",
              "1      Le Chinois Express  5-65 Mall Rd, Hamilton, ON L8V 5B8\\nGet direct...   \n",
              "2                  Subway  920 Upper Wentworth St, Hamilton, ON L9A 5C5\\n...   \n",
              "3           Little Saigon  4-66 Mall Rd, Hamilton, ON L8V 5B9\\nGet direct...   \n",
              "4   Fez Family Restaurant  4-66 Mall Rd, Hamilton, ON L8V 5B9\\nGet direct...   \n",
              "..                    ...                                                ...   \n",
              "30      Papa John's Pizza  1096 Barton St East, Hamilton, ON L8H 2V1\\nGet...   \n",
              "31          Wah Sardaarji  77 James St N, Hamilton, ON L8R 2K3\\nGet direc...   \n",
              "32                Freshii  2 King St W, Hamilton, ON L8P 1A1\\nGet directions   \n",
              "33            BeaverTails  300 Taylor Rd, Niagara-on-the-Lake, ON L0S 1J0...   \n",
              "34        Azal Restaurant  107-90 Wellington St N, Hamilton, ON L8R 1N1\\n...   \n",
              "\n",
              "        Phone_No  \n",
              "0   905-318-4444  \n",
              "1   905-388-0033  \n",
              "2   905-318-8383  \n",
              "3   905-389-9826  \n",
              "4   905-389-5773  \n",
              "..           ...  \n",
              "30  289-768-6536  \n",
              "31  289-925-6445  \n",
              "32  289-919-1345  \n",
              "33  905-685-5762  \n",
              "34  289-389-1240  \n",
              "\n",
              "[770 rows x 3 columns]"
            ]
          },
          "metadata": {},
          "execution_count": 109
        }
      ]
    },
    {
      "cell_type": "code",
      "source": [
        "final=final.reset_index(drop=True)"
      ],
      "metadata": {
        "id": "yLrX1rFc0iCx"
      },
      "execution_count": null,
      "outputs": []
    },
    {
      "cell_type": "code",
      "source": [
        "final"
      ],
      "metadata": {
        "colab": {
          "base_uri": "https://localhost:8080/",
          "height": 424
        },
        "id": "zjKPOYIn5Vhg",
        "outputId": "dcaa395c-a183-42d6-a5e1-d1355201fde6"
      },
      "execution_count": null,
      "outputs": [
        {
          "output_type": "execute_result",
          "data": {
            "text/html": [
              "\n",
              "  <div id=\"df-61b0541e-eec6-49d3-aef7-8989434e2050\">\n",
              "    <div class=\"colab-df-container\">\n",
              "      <div>\n",
              "<style scoped>\n",
              "    .dataframe tbody tr th:only-of-type {\n",
              "        vertical-align: middle;\n",
              "    }\n",
              "\n",
              "    .dataframe tbody tr th {\n",
              "        vertical-align: top;\n",
              "    }\n",
              "\n",
              "    .dataframe thead th {\n",
              "        text-align: right;\n",
              "    }\n",
              "</style>\n",
              "<table border=\"1\" class=\"dataframe\">\n",
              "  <thead>\n",
              "    <tr style=\"text-align: right;\">\n",
              "      <th></th>\n",
              "      <th>Name</th>\n",
              "      <th>Address</th>\n",
              "      <th>Phone_No</th>\n",
              "    </tr>\n",
              "  </thead>\n",
              "  <tbody>\n",
              "    <tr>\n",
              "      <th>0</th>\n",
              "      <td>Safin Grill</td>\n",
              "      <td>6-65 Mall Rd, Hamilton, ON L8V 5B8\\nGet direct...</td>\n",
              "      <td>905-318-4444</td>\n",
              "    </tr>\n",
              "    <tr>\n",
              "      <th>1</th>\n",
              "      <td>Le Chinois Express</td>\n",
              "      <td>5-65 Mall Rd, Hamilton, ON L8V 5B8\\nGet direct...</td>\n",
              "      <td>905-388-0033</td>\n",
              "    </tr>\n",
              "    <tr>\n",
              "      <th>2</th>\n",
              "      <td>Subway</td>\n",
              "      <td>920 Upper Wentworth St, Hamilton, ON L9A 5C5\\n...</td>\n",
              "      <td>905-318-8383</td>\n",
              "    </tr>\n",
              "    <tr>\n",
              "      <th>3</th>\n",
              "      <td>Little Saigon</td>\n",
              "      <td>4-66 Mall Rd, Hamilton, ON L8V 5B9\\nGet direct...</td>\n",
              "      <td>905-389-9826</td>\n",
              "    </tr>\n",
              "    <tr>\n",
              "      <th>4</th>\n",
              "      <td>Fez Family Restaurant</td>\n",
              "      <td>4-66 Mall Rd, Hamilton, ON L8V 5B9\\nGet direct...</td>\n",
              "      <td>905-389-5773</td>\n",
              "    </tr>\n",
              "    <tr>\n",
              "      <th>...</th>\n",
              "      <td>...</td>\n",
              "      <td>...</td>\n",
              "      <td>...</td>\n",
              "    </tr>\n",
              "    <tr>\n",
              "      <th>765</th>\n",
              "      <td>Papa John's Pizza</td>\n",
              "      <td>1096 Barton St East, Hamilton, ON L8H 2V1\\nGet...</td>\n",
              "      <td>289-768-6536</td>\n",
              "    </tr>\n",
              "    <tr>\n",
              "      <th>766</th>\n",
              "      <td>Wah Sardaarji</td>\n",
              "      <td>77 James St N, Hamilton, ON L8R 2K3\\nGet direc...</td>\n",
              "      <td>289-925-6445</td>\n",
              "    </tr>\n",
              "    <tr>\n",
              "      <th>767</th>\n",
              "      <td>Freshii</td>\n",
              "      <td>2 King St W, Hamilton, ON L8P 1A1\\nGet directions</td>\n",
              "      <td>289-919-1345</td>\n",
              "    </tr>\n",
              "    <tr>\n",
              "      <th>768</th>\n",
              "      <td>BeaverTails</td>\n",
              "      <td>300 Taylor Rd, Niagara-on-the-Lake, ON L0S 1J0...</td>\n",
              "      <td>905-685-5762</td>\n",
              "    </tr>\n",
              "    <tr>\n",
              "      <th>769</th>\n",
              "      <td>Azal Restaurant</td>\n",
              "      <td>107-90 Wellington St N, Hamilton, ON L8R 1N1\\n...</td>\n",
              "      <td>289-389-1240</td>\n",
              "    </tr>\n",
              "  </tbody>\n",
              "</table>\n",
              "<p>770 rows × 3 columns</p>\n",
              "</div>\n",
              "      <button class=\"colab-df-convert\" onclick=\"convertToInteractive('df-61b0541e-eec6-49d3-aef7-8989434e2050')\"\n",
              "              title=\"Convert this dataframe to an interactive table.\"\n",
              "              style=\"display:none;\">\n",
              "        \n",
              "  <svg xmlns=\"http://www.w3.org/2000/svg\" height=\"24px\"viewBox=\"0 0 24 24\"\n",
              "       width=\"24px\">\n",
              "    <path d=\"M0 0h24v24H0V0z\" fill=\"none\"/>\n",
              "    <path d=\"M18.56 5.44l.94 2.06.94-2.06 2.06-.94-2.06-.94-.94-2.06-.94 2.06-2.06.94zm-11 1L8.5 8.5l.94-2.06 2.06-.94-2.06-.94L8.5 2.5l-.94 2.06-2.06.94zm10 10l.94 2.06.94-2.06 2.06-.94-2.06-.94-.94-2.06-.94 2.06-2.06.94z\"/><path d=\"M17.41 7.96l-1.37-1.37c-.4-.4-.92-.59-1.43-.59-.52 0-1.04.2-1.43.59L10.3 9.45l-7.72 7.72c-.78.78-.78 2.05 0 2.83L4 21.41c.39.39.9.59 1.41.59.51 0 1.02-.2 1.41-.59l7.78-7.78 2.81-2.81c.8-.78.8-2.07 0-2.86zM5.41 20L4 18.59l7.72-7.72 1.47 1.35L5.41 20z\"/>\n",
              "  </svg>\n",
              "      </button>\n",
              "      \n",
              "  <style>\n",
              "    .colab-df-container {\n",
              "      display:flex;\n",
              "      flex-wrap:wrap;\n",
              "      gap: 12px;\n",
              "    }\n",
              "\n",
              "    .colab-df-convert {\n",
              "      background-color: #E8F0FE;\n",
              "      border: none;\n",
              "      border-radius: 50%;\n",
              "      cursor: pointer;\n",
              "      display: none;\n",
              "      fill: #1967D2;\n",
              "      height: 32px;\n",
              "      padding: 0 0 0 0;\n",
              "      width: 32px;\n",
              "    }\n",
              "\n",
              "    .colab-df-convert:hover {\n",
              "      background-color: #E2EBFA;\n",
              "      box-shadow: 0px 1px 2px rgba(60, 64, 67, 0.3), 0px 1px 3px 1px rgba(60, 64, 67, 0.15);\n",
              "      fill: #174EA6;\n",
              "    }\n",
              "\n",
              "    [theme=dark] .colab-df-convert {\n",
              "      background-color: #3B4455;\n",
              "      fill: #D2E3FC;\n",
              "    }\n",
              "\n",
              "    [theme=dark] .colab-df-convert:hover {\n",
              "      background-color: #434B5C;\n",
              "      box-shadow: 0px 1px 3px 1px rgba(0, 0, 0, 0.15);\n",
              "      filter: drop-shadow(0px 1px 2px rgba(0, 0, 0, 0.3));\n",
              "      fill: #FFFFFF;\n",
              "    }\n",
              "  </style>\n",
              "\n",
              "      <script>\n",
              "        const buttonEl =\n",
              "          document.querySelector('#df-61b0541e-eec6-49d3-aef7-8989434e2050 button.colab-df-convert');\n",
              "        buttonEl.style.display =\n",
              "          google.colab.kernel.accessAllowed ? 'block' : 'none';\n",
              "\n",
              "        async function convertToInteractive(key) {\n",
              "          const element = document.querySelector('#df-61b0541e-eec6-49d3-aef7-8989434e2050');\n",
              "          const dataTable =\n",
              "            await google.colab.kernel.invokeFunction('convertToInteractive',\n",
              "                                                     [key], {});\n",
              "          if (!dataTable) return;\n",
              "\n",
              "          const docLinkHtml = 'Like what you see? Visit the ' +\n",
              "            '<a target=\"_blank\" href=https://colab.research.google.com/notebooks/data_table.ipynb>data table notebook</a>'\n",
              "            + ' to learn more about interactive tables.';\n",
              "          element.innerHTML = '';\n",
              "          dataTable['output_type'] = 'display_data';\n",
              "          await google.colab.output.renderOutput(dataTable, element);\n",
              "          const docLink = document.createElement('div');\n",
              "          docLink.innerHTML = docLinkHtml;\n",
              "          element.appendChild(docLink);\n",
              "        }\n",
              "      </script>\n",
              "    </div>\n",
              "  </div>\n",
              "  "
            ],
            "text/plain": [
              "                      Name                                            Address  \\\n",
              "0              Safin Grill  6-65 Mall Rd, Hamilton, ON L8V 5B8\\nGet direct...   \n",
              "1       Le Chinois Express  5-65 Mall Rd, Hamilton, ON L8V 5B8\\nGet direct...   \n",
              "2                   Subway  920 Upper Wentworth St, Hamilton, ON L9A 5C5\\n...   \n",
              "3            Little Saigon  4-66 Mall Rd, Hamilton, ON L8V 5B9\\nGet direct...   \n",
              "4    Fez Family Restaurant  4-66 Mall Rd, Hamilton, ON L8V 5B9\\nGet direct...   \n",
              "..                     ...                                                ...   \n",
              "765      Papa John's Pizza  1096 Barton St East, Hamilton, ON L8H 2V1\\nGet...   \n",
              "766          Wah Sardaarji  77 James St N, Hamilton, ON L8R 2K3\\nGet direc...   \n",
              "767                Freshii  2 King St W, Hamilton, ON L8P 1A1\\nGet directions   \n",
              "768            BeaverTails  300 Taylor Rd, Niagara-on-the-Lake, ON L0S 1J0...   \n",
              "769        Azal Restaurant  107-90 Wellington St N, Hamilton, ON L8R 1N1\\n...   \n",
              "\n",
              "         Phone_No  \n",
              "0    905-318-4444  \n",
              "1    905-388-0033  \n",
              "2    905-318-8383  \n",
              "3    905-389-9826  \n",
              "4    905-389-5773  \n",
              "..            ...  \n",
              "765  289-768-6536  \n",
              "766  289-925-6445  \n",
              "767  289-919-1345  \n",
              "768  905-685-5762  \n",
              "769  289-389-1240  \n",
              "\n",
              "[770 rows x 3 columns]"
            ]
          },
          "metadata": {},
          "execution_count": 114
        }
      ]
    },
    {
      "cell_type": "code",
      "source": [
        "final.isnull().sum()"
      ],
      "metadata": {
        "colab": {
          "base_uri": "https://localhost:8080/"
        },
        "id": "VvjSJH9O7l8A",
        "outputId": "61ce1f19-b34e-42f0-9d6a-515f51459905"
      },
      "execution_count": null,
      "outputs": [
        {
          "output_type": "execute_result",
          "data": {
            "text/plain": [
              "Name        0\n",
              "Address     0\n",
              "Phone_No    2\n",
              "dtype: int64"
            ]
          },
          "metadata": {},
          "execution_count": 116
        }
      ]
    },
    {
      "cell_type": "code",
      "source": [
        "final.dropna(inplace=True)"
      ],
      "metadata": {
        "id": "HyAxaEf67sCf"
      },
      "execution_count": null,
      "outputs": []
    },
    {
      "cell_type": "code",
      "source": [
        "final.isnull().sum()"
      ],
      "metadata": {
        "colab": {
          "base_uri": "https://localhost:8080/"
        },
        "id": "GvReQs1u76fQ",
        "outputId": "0fbd9668-c078-4660-b2ad-ab985c74606f"
      },
      "execution_count": null,
      "outputs": [
        {
          "output_type": "execute_result",
          "data": {
            "text/plain": [
              "Name        0\n",
              "Address     0\n",
              "Phone_No    0\n",
              "dtype: int64"
            ]
          },
          "metadata": {},
          "execution_count": 119
        }
      ]
    },
    {
      "cell_type": "code",
      "source": [
        "final.info()"
      ],
      "metadata": {
        "colab": {
          "base_uri": "https://localhost:8080/"
        },
        "id": "ZCzUvnlU9dWb",
        "outputId": "f39d301a-491a-46c1-8791-937edfca23d3"
      },
      "execution_count": null,
      "outputs": [
        {
          "output_type": "stream",
          "name": "stdout",
          "text": [
            "<class 'pandas.core.frame.DataFrame'>\n",
            "Int64Index: 768 entries, 0 to 769\n",
            "Data columns (total 3 columns):\n",
            " #   Column    Non-Null Count  Dtype \n",
            "---  ------    --------------  ----- \n",
            " 0   Name      768 non-null    object\n",
            " 1   Address   768 non-null    object\n",
            " 2   Phone_No  768 non-null    object\n",
            "dtypes: object(3)\n",
            "memory usage: 24.0+ KB\n"
          ]
        }
      ]
    },
    {
      "cell_type": "code",
      "source": [
        "final['Name']=final['Name'].str.split(' ').str.slice(0,3).str.join(' ')"
      ],
      "metadata": {
        "id": "Xt-enKcw78Dg"
      },
      "execution_count": null,
      "outputs": []
    },
    {
      "cell_type": "code",
      "source": [
        "final['Name'].unique()"
      ],
      "metadata": {
        "colab": {
          "base_uri": "https://localhost:8080/"
        },
        "id": "VVMYspHH8DjA",
        "outputId": "36b4e427-3b4a-4bdd-8d87-0f2e11f3e41f"
      },
      "execution_count": null,
      "outputs": [
        {
          "output_type": "execute_result",
          "data": {
            "text/plain": [
              "array(['Safin Grill', 'Le Chinois Express', 'Subway', 'Little Saigon',\n",
              "       'Fez Family Restaurant', 'Teriyaki Experience', 'Booster Juice',\n",
              "       \"Bruno's Pizza And\", \"Harvey's\", \"McDonald's\", 'Manchu Wok',\n",
              "       'Villa Madina', 'TLC', 'A&W', 'Extreme Pita Store',\n",
              "       'Bourbon St Grill', 'Jimmy The Greek', \"Arby's\", 'Thaï Express',\n",
              "       'Fox and Fiddle', 'Cinnigard Inc', 'New York Fries',\n",
              "       'Pulis Real Estate', 'La Prep', \"Harvey's Restaurants\",\n",
              "       'And Our Menu', 'Tim Hortons', 'Iron Chef Chinese',\n",
              "       'Popeyes Chicken', 'Ye Olde Squire', 'My Buddys Greek',\n",
              "       'South Pacific Restaurant', 'Dairy Queen Grill',\n",
              "       \"Heff's Central Bar\", 'Cheezaatar', \"Papa John's Pizza\",\n",
              "       'Lawentanawen Pizza Chenail', 'Pizza Hut Hamilton',\n",
              "       'Rumak Eatery &', 'Yum Yum', 'Quiznos Sub',\n",
              "       \"Joannes' Italian Restaurant\", 'Hong Kong Chinese', \"Wendy's\",\n",
              "       'Pioneer Fast Fodds', 'The Greek Grill', 'Pizza Pizza',\n",
              "       'Lincside Pub &', 'Eatery & Bar', 'Tarboosh Restaurant', 'KFC',\n",
              "       'Pho Binh Minh', 'Munchies', \"Mike's Submarines\",\n",
              "       'La Luna Express', 'Samir Supermarket &', 'PHO BINH MINH',\n",
              "       'Little Caesars', 'Pho Dau Bo', 'Quesada Mexican &', 'Fontes',\n",
              "       'Denninger', 'Holleywood Lounge Bar', 'Taco Bell',\n",
              "       'Pagoda Chop Suey', 'La Luna Lebanese',\n",
              "       'Pastacino Restaurant Cafe', \"Turtle Jack's Upper\",\n",
              "       'Original Friscos', 'Stop N Wrap', 'Manhattan', 'Jacks Roadhouse',\n",
              "       'Stoneroads Bar &', '3 Angels Grill', 'Pita Pit',\n",
              "       \"Romano's Pasta And\", 'Nahas Basha', 'Rannosh Grill',\n",
              "       \"Tracie's Place\", 'Sana Grill', 'Caribbean Canadian Fast',\n",
              "       'The Keg Steakhouse', 'Days Inn', 'The Juice Kitchen',\n",
              "       'The Oasis Restaurant', 'The Speakeasy', 'Jerusalem Pita',\n",
              "       'Slide Show', 'Oasis Restaurant Inc', \"T J's Place\",\n",
              "       'Paramount Fine Foods', 'Swiss Chalet', 'Brux House', 'The French',\n",
              "       'Aberdeen Tavern', 'Red Rockets', 'The Whistling Walrus',\n",
              "       '11373650 Canada Inc', \"Ray's Place\", 'Mandarin Restaurant',\n",
              "       'The Checkered Flag', \"Cheung's Restaurant\", \"Topper's Pizza\",\n",
              "       \"Kelsey's\", 'Easterbrooks Hotdog Stand', 'Queenston Fish &',\n",
              "       'Joya Restaurant', 'Golden Griddle Family',\n",
              "       'Shanghai Chinese Food', \"Montana's\", \"Shawarma Lulu's\",\n",
              "       'Auguri Cucina', 'Capri Family Restaurant', 'Taste Of Vietnam',\n",
              "       'Incognito Restaurant', 'Dragon Court Restaurant',\n",
              "       'Sapporo Cuisine', 'Notte Restaurant', 'Canton Take Out',\n",
              "       'Williams Fresh Cafe', \"Boo's Bistro And\",\n",
              "       'The Himalya Restaurant', 'Cookhouse Bistro Inc', \"Tony's Corner\",\n",
              "       \"Crabby Joe's Tap\", 'Chinese BBQ Zone',\n",
              "       '1\\nFlamboro Downs Harness', 'The Village Green', 'McSushi',\n",
              "       'Doors Pub &', 'Crystal Dynasty Chinese', \"Cafe' Limoncello An\",\n",
              "       'Coney Island Fries', 'Fragoso Seafood Place', \"Fisher's Pier 4\",\n",
              "       'Bella Pizza', 'Big Top Family', 'Chinese Dumplings', 'B & T',\n",
              "       \"Chester's Beers Of\", 'Country Court Café', \"Chuggy's Tap &\",\n",
              "       'Churrasqueira & Cafe', 'Barbara Caffe Fine', 'Nabil Middle East',\n",
              "       \"Aout'n About Inc\", 'The Bite', \"Kris's Place\", 'A 1-One- BBQ',\n",
              "       '1010 Bistro', 'Poco Loco', 'Subway Sandwiches',\n",
              "       'Warda Ready Food', 'The Olde School', 'The Golden Pizza',\n",
              "       'Great Wall Restaurant', 'Harvest Moon Chinese', 'Downtown Cafe',\n",
              "       'The Donut Stop', 'East City Chinese', \"East Side Mario's\",\n",
              "       'Neighbours Bar &', 'La Luna At', 'Koi', 'Maple Leaf Pancake',\n",
              "       'The Gown &', \"Hutch's Harbour Front\", \"Marshall's Truck Stop\",\n",
              "       'Hotopia', 'Liang Kee Chinese', 'Le Chinois Restaurant',\n",
              "       'The Beasley House', 'Our Corner', 'Perfect Plate',\n",
              "       'The Purple Pear', 'Home Twon Cafe', 'Jax Bar &',\n",
              "       'Grand Chow Mein', 'Jerelday Lodge', 'Jet Cafe',\n",
              "       'La Cantina Ristorante', 'Joy Inn Restaurant',\n",
              "       'The Pheasant Plucker', \"Rankin's Bar &\",\n",
              "       'Saigon Asian Restaurant', 'Dundas Verdes Cafe',\n",
              "       'Symposium Cafe Restaurant', 'Letsgoout', \"Tom's Sports Bar\",\n",
              "       'Rosedale Sports Bar', 'Ellis Kitchen &', 'Mr Chicken Shawarma',\n",
              "       'Two Cougars &', 'Right Wingers', 'Ajio Sushi',\n",
              "       'One Duke Restaurant', 'Undermount Bar &', 'Punjab Shaan E',\n",
              "       '1\\nTally Ho Restaurants', 'Toby Good Eats',\n",
              "       \"Steve's Open Kitchen\", 'Wayside Lunch', 'Wild Orchid',\n",
              "       \"1\\nShakespeare's Steak &\", 'Lazy Flamingo', 'Winchester Arms',\n",
              "       'Spurs Roadhouse', 'Golden Flame', \"Giuseppe's Cuisine&Pizza\",\n",
              "       'Vida La Pita', 'Wraps On The', 'West Town Bar',\n",
              "       'The Village Restaurant', 'South Garden Restaurant',\n",
              "       'Mr Dumpling Express', \"Evia's Fast Food\", 'Thai Orchid',\n",
              "       'East Fusion Asian', 'South City Chinese', \"Lo Presti's At\",\n",
              "       'Quiznos', 'North End Pita', 'Famous Recipe',\n",
              "       'Golden Dragon Restaurant', 'Rosewood', \"Amy's Wok\", 'Right ON Q',\n",
              "       'Sizzle Steak House', 'The Snooty Fox', 'Sirloin Cellar',\n",
              "       'Mex-I-Can', 'Cora Breakfast &', 'Wing It! Chicken',\n",
              "       'Spasso Ristorante Banquet', 'Tea 168 Hamilton', 'The Innsville',\n",
              "       'Golden Horseshoe', 'Burrito Boyz Inc', 'Rapscallion & Co',\n",
              "       'Oak Cafe', 'The Power House', 'Popeyes Louisiana Kitchen',\n",
              "       'Ace Restaurant', 'MMM Crepealicious Ltd', 'Lava Pizza &',\n",
              "       'Foodland', 'Adobo Queen Ltd', 'East Place Restaurant',\n",
              "       'Starlight Investments Ltd', 'Indian Garden Restaurant',\n",
              "       \"Jack & Lois's\", 'Seoul Korean Cuisine', 'Philphy Nicknasty S',\n",
              "       'Papagayo', 'Food Box Ltd', 'Hardys Casual Family',\n",
              "       'Atami Sushi Restaurant', \"Smoke's Poutinerie\", 'O Leao Cafe',\n",
              "       'Waltz Live Music', \"McDonald's Restaurants Of\", 'Endzone Bar &',\n",
              "       'Burger King', 'Bel Air Bar', 'Checkered Flag Bar',\n",
              "       'Oceano Restaurant', \"Player's Athletic Lager\", 'Queens Tavern',\n",
              "       'Select Site Donuts', 'The Bean Bar', 'The Gallery Snack',\n",
              "       'Custom Catering', 'Sunset Grill', \"Gino's Pizza\",\n",
              "       'Wenham Company', 'Pho Mai Restaurant', 'The Willow Bark',\n",
              "       'Krishna Sweet Restaurant', 'Cara Operations Limited',\n",
              "       'Limoncello', \"Phyl's Family Restaurant\", 'The Brain', 'K W BBQ',\n",
              "       \"Wimpy's Diner\", \"Jack's Tasty Kitchen\", \"Romano's Ristorante\",\n",
              "       'Prime Time Sports', 'Royal Pizza', 'West End Diner',\n",
              "       'Rolly Rockets BBQ', 'Five Guys', 'Premier BBQ House',\n",
              "       'Dairy Queen -', 'City Pizza', 'Wok Express', 'Nutrafarms Inc',\n",
              "       'Union Burger', 'Get Together Bar', 'Saigon House Restaurant',\n",
              "       'Koornneef A &', \"Mary Brown's\", 'Emerson Pub &',\n",
              "       \"O'Neils Restaurant\", 'The Egg And', 'Shelina Sunderji',\n",
              "       'Golden Griddle Corporation', 'Seven Windows', 'Pho Lac Vien',\n",
              "       \"Ronny G's Sports\", 'Woodward Restaurant', 'Fool & Flagon',\n",
              "       'Pho Be Vang', \"Fisher's Pier Four\", 'China Palace Restaurant',\n",
              "       'Claudios Risorante', 'The Bombay Grill', 'Island Jerk Hut',\n",
              "       'The Gelato Spot', 'Rose Garden Family', 'Sam & Son',\n",
              "       'XXX Burrito', 'Royal tandoori Indian', 'The Wright Track',\n",
              "       \"Hutch's Dingley Dell\", 'Dominion Pizza', 'Thai Diner',\n",
              "       'Sall Sweet &', 'Good Life Deli', 'Enercare Connections Inc',\n",
              "       'Aceti Pizzeria Spaghetti', \"Grumpy's Take-Out\", \"Harry's Fish &\",\n",
              "       'Kabul Shawarma Grill', 'Toss Thai', 'Montfort Upper James',\n",
              "       'Tim Hortons -', 'The Ship', 'The Express Restaurant',\n",
              "       'Carribbean Flavah', 'Silver Wok', 'Lemon Grass',\n",
              "       'Lonnies On Barton', 'Chihiro Japanese Restaurant',\n",
              "       \"Valentino's Restaurant\", 'Scenic Golf Club', 'Made Pho You',\n",
              "       'Maccheroni Cucina Al', 'Baci Restorante', 'Aramark Canada Ltd',\n",
              "       'Tomala- The Portuguese', 'Blue Nile Restaurant',\n",
              "       'Culantro Peruvian Cookery', 'Taco Del Mar', \"Karlee's\",\n",
              "       'The Penalty Box', 'Asmara Homestead Bar', 'Fifties Diner',\n",
              "       'Tabouli', 'Buffalo Wild Wings', 'FroGoXpress', 'Amir Pita And',\n",
              "       \"Yaya's Caribbean Restaurant\", 'Metergy Solutions Inc',\n",
              "       'Rawlicious', \"Nobody's Perfect\", \"Randy's Grass Fed\",\n",
              "       'Samir Kebab House', 'Khyber Restaurant Inc', 'Homestead Pizza',\n",
              "       'Pita Pit -', 'Lotus Thai &', 'Salt Lick Smokehouse',\n",
              "       '2321723 Ontario Inc', 'Little Greek Corner', 'The Pita Pit',\n",
              "       'Lavo Ristorante', 'The Hearty Hooligan', 'THE PURPLE PONY',\n",
              "       \"CHEF'S EXPRESS\", 'CROWBAR RESTAURANT', 'BLUE NILE ETHIOPIAN',\n",
              "       \"Dengi's Kitchen\", 'Tom Rae Lodge', 'KLEINBURG GOLF CLUB',\n",
              "       \"TURPIN'S REDWOOD INN\", 'RAINHAM DAIRY FREEZE', 'Mucho Burrito',\n",
              "       'La Costa Restaurant', 'RIKOCHEZ PUB AND', \"MOTHER'S\",\n",
              "       \"SANTINO'S SHAWARMA &\", 'BeaverTails', 'The Red Door',\n",
              "       'Greek Grill Express', 'The Burnt Tongue', 'Raoabe Restaurant',\n",
              "       'Alberto Farina Restaurant', 'Diner 66', 'Kashvi Inc',\n",
              "       'Sparkle Northern Chinese', 'Burnt Tongue Cannon', 'Crack Me Up',\n",
              "       \"Mother's Vietnamese Kitchen\", 'Nellie James Too', 'Lai Wah Heen',\n",
              "       'State & Main', 'Lake Road Restaurant', 'Clover Inc',\n",
              "       'In your Kitchen', 'Taro at MAC', \"Fast Jack's\", 'The Juice Cycle',\n",
              "       \"D's Eats\", 'AMO Gelato Caffe', 'Rustic & Unique',\n",
              "       'Modern India Buffet', 'Wild Wing', 'SBB Restaurant',\n",
              "       'The Heather', 'Union; Jack Fish', 'Hambrgr (Ottawa) Inc',\n",
              "       \"Narula's Express\", \"Maria's Tortas Jalisco\", 'The Parm House',\n",
              "       'The Bull &', 'Taps Bar And', 'The WORKS Craft', 'Pinks Burgers',\n",
              "       'Mezza Caffe', 'Hot Off The', 'The Greenlid Autom',\n",
              "       'Vang Pho Rong', 'Coffee Culture', 'Owl Of Minerva', 'Bulgogi BBQ',\n",
              "       \"Ray's Galley Fish\", '2771107 Ontario Inc',\n",
              "       'Swiss Chalet Rotisserie', 'Stop Bar', 'Staxx Burger Chicken',\n",
              "       'Joe Lemak RMT', \"Lou Dawg's\", \"Lou Dawg's Southern\",\n",
              "       'Curbside Grill', 'Jet Diner', 'Nique Restaurant',\n",
              "       'Kenzo Ramen Hamilton', 'Kings Landing Bar', 'Sugar Marmalade',\n",
              "       'Broadway Diner', \"Paparella's Cafe &\", \"Mcqueen's\",\n",
              "       'Gage Park Diner', 'Somali Restaurant', \"Queen's Pizza &\",\n",
              "       'Great Red Peppers', '1944890 Ontario Inc', 'Bastonis',\n",
              "       'My Pizza Pie', 'Uno Mas', 'The Mule', 'Lakewood Furniture',\n",
              "       'Hot Stone Pizza', 'Kam Restaurant', \"Fionn MacCool's Irish\",\n",
              "       'Canton Chinese Food', 'Burrito Bandidos', 'Come By Chance',\n",
              "       'Bosnian Specialties Ltd', 'Calabarkitchen Canada', 'Fsh & Chps',\n",
              "       'The Coop Restaurant', 'Zaytoon Inc', 'Bodhi Bar',\n",
              "       'Earl´s Landscaping', 'Ten Decades', 'Tavana Cuisine',\n",
              "       'The PieRific Oven', 'La Luna Bakery', 'Gator BBQ',\n",
              "       \"Don Cherryî'Îs Îàî\", 'Delish Restaurant', 'White Rabbit',\n",
              "       'Forbidden City Restaurant', 'BANANA BEACH CLUB',\n",
              "       'COFFEE CULTURE CAFE', '3 FOR 1', 'MARKET BREWING COMPANY',\n",
              "       'THE COFFEE OFFICE', 'Mountainview Motel', 'GINOS PIZZA',\n",
              "       'COCO FRESH TEA', 'KIMS FRIES', 'Open Sesame Mediterranean',\n",
              "       'Kelseys', 'August 8', '541 Exchange &', 'Rizbowl Restaurant',\n",
              "       \"Cuba's Restaurant\", \"Cora's Breakfast &\", 'Eating Gate',\n",
              "       'Rocky Rockets', 'Coop Wicked Chicken', 'Artizan Diner Bar',\n",
              "       'Pisces Cafe Bar', 'Offside Sports Bar', \"Andy's Submarine\",\n",
              "       'Moodys', 'Shillaos Fish &', \"Andrew's Exquisite Catering\",\n",
              "       'Chaska Fried Chicken', \"Pon's Lunch\", 'Best Coffee In',\n",
              "       'Bread & Bowl', 'Max Snack', \"Katherine's Custom Catering\",\n",
              "       \"Mr K's Breaktime\", 'Stats', 'Genuine Deli &', '3 For U',\n",
              "       'Miss Lyns', \"Mugsy's Place\", 'Ping-Pong Restaurant &',\n",
              "       \"Fay's Cafe\", 'Sol E Mar', \"Hoaggy's Place\",\n",
              "       \"Chagall's At Sheraton\", \"Nancy's Restaurant\", 'Diabetic Delights',\n",
              "       'Hamilton Ribs Inc', 'Teafun', 'Aunt Wilhelmina Gourmet',\n",
              "       'Up The Creek', 'Rock Garden Tea', 'Bistro Livno', 'Tiggers Place',\n",
              "       'Lunch N Such', 'Ellas Cafe', 'Sub Rock Cafe', 'Cafe Members Clb',\n",
              "       'Playground Bar &', 'Fla Cafe &', 'Bifana Pit',\n",
              "       'Burger King Restaurants', 'Cool Like That', 'Wild Wings',\n",
              "       'Gallery Cafe', '2525121 Ontario Inc', 'Bright Spot Restaurant',\n",
              "       \"Lutey's Kitchen\", 'Etno Bar &', 'Almas Multi Cuisine',\n",
              "       'Bronx Burgers Restaurant', 'Caribbean Vibe', 'Mendonca Cafe',\n",
              "       'Pub', 'FORTY THIEVES CAFE', 'Boon Burger', 'Auntie Booms Retro',\n",
              "       'East Wok Chinese', 'Kasual Korners', 'Tapestry Bistro',\n",
              "       'Nik N Toneezz', 'Gilmours', 'Famous Recipe On', 'J & G',\n",
              "       \"Pasta 'E' Basta\", 'W K Restaurant', 'At The Table',\n",
              "       \"Danya's Restaurant\", 'Orange Julius', 'Smoke And Moonshine',\n",
              "       'The Hood', 'Civic Restaurant', 'Sunset Cafe Restaurant',\n",
              "       'Sunset Boulevard', 'Panino Italiano', 'Phi Ho Hung',\n",
              "       'Calabar Kitchen Canada', 'Lookout Sports Lounge',\n",
              "       'August Dim Sum', 'Pita Planet Take', 'Go Internet Cafe',\n",
              "       'Olympic Pizza', '1St Stop Donuts', 'The Countryside Grill',\n",
              "       \"Denny's\", 'Soul Restaurants Of', 'Industria Pizzeria +',\n",
              "       'Ole Gourmet Mexican', 'Hamilton Harbour Commissioners',\n",
              "       \"Turtle Jack's Winona\", \"Rainbow's End Bistro\", \"Sam's Place\",\n",
              "       'BBQ Catering', \"Moxie's Grill &\", \"Coach's Corner\",\n",
              "       \"Mom's Wheat-Free Wonders\", 'Visions', 'Deli A', 'Dough Box Pizza',\n",
              "       'Wah Sardaarji', 'Freshii', 'Azal Restaurant'], dtype=object)"
            ]
          },
          "metadata": {},
          "execution_count": 136
        }
      ]
    },
    {
      "cell_type": "code",
      "source": [
        "final['Address']=final['Address'].str.replace('\\nGet directions','')"
      ],
      "metadata": {
        "id": "Hd8E-WAI-K-P"
      },
      "execution_count": null,
      "outputs": []
    },
    {
      "cell_type": "code",
      "source": [
        "final['Phone_No']=final['Phone_No'].str.replace('-','')"
      ],
      "metadata": {
        "id": "fQhttblb-_zq"
      },
      "execution_count": null,
      "outputs": []
    },
    {
      "cell_type": "code",
      "source": [
        "final.head()"
      ],
      "metadata": {
        "colab": {
          "base_uri": "https://localhost:8080/",
          "height": 206
        },
        "id": "FQcaVegn-8NA",
        "outputId": "be59b6d3-c653-481b-a201-25e9600555e3"
      },
      "execution_count": null,
      "outputs": [
        {
          "output_type": "execute_result",
          "data": {
            "text/html": [
              "\n",
              "  <div id=\"df-6b6e453d-ed8e-4820-9ca4-21100f2e9a70\">\n",
              "    <div class=\"colab-df-container\">\n",
              "      <div>\n",
              "<style scoped>\n",
              "    .dataframe tbody tr th:only-of-type {\n",
              "        vertical-align: middle;\n",
              "    }\n",
              "\n",
              "    .dataframe tbody tr th {\n",
              "        vertical-align: top;\n",
              "    }\n",
              "\n",
              "    .dataframe thead th {\n",
              "        text-align: right;\n",
              "    }\n",
              "</style>\n",
              "<table border=\"1\" class=\"dataframe\">\n",
              "  <thead>\n",
              "    <tr style=\"text-align: right;\">\n",
              "      <th></th>\n",
              "      <th>Name</th>\n",
              "      <th>Address</th>\n",
              "      <th>Phone_No</th>\n",
              "    </tr>\n",
              "  </thead>\n",
              "  <tbody>\n",
              "    <tr>\n",
              "      <th>0</th>\n",
              "      <td>Safin Grill</td>\n",
              "      <td>6-65 Mall Rd, Hamilton, ON L8V 5B8</td>\n",
              "      <td>9053184444</td>\n",
              "    </tr>\n",
              "    <tr>\n",
              "      <th>1</th>\n",
              "      <td>Le Chinois Express</td>\n",
              "      <td>5-65 Mall Rd, Hamilton, ON L8V 5B8</td>\n",
              "      <td>9053880033</td>\n",
              "    </tr>\n",
              "    <tr>\n",
              "      <th>2</th>\n",
              "      <td>Subway</td>\n",
              "      <td>920 Upper Wentworth St, Hamilton, ON L9A 5C5</td>\n",
              "      <td>9053188383</td>\n",
              "    </tr>\n",
              "    <tr>\n",
              "      <th>3</th>\n",
              "      <td>Little Saigon</td>\n",
              "      <td>4-66 Mall Rd, Hamilton, ON L8V 5B9</td>\n",
              "      <td>9053899826</td>\n",
              "    </tr>\n",
              "    <tr>\n",
              "      <th>4</th>\n",
              "      <td>Fez Family Restaurant</td>\n",
              "      <td>4-66 Mall Rd, Hamilton, ON L8V 5B9</td>\n",
              "      <td>9053895773</td>\n",
              "    </tr>\n",
              "  </tbody>\n",
              "</table>\n",
              "</div>\n",
              "      <button class=\"colab-df-convert\" onclick=\"convertToInteractive('df-6b6e453d-ed8e-4820-9ca4-21100f2e9a70')\"\n",
              "              title=\"Convert this dataframe to an interactive table.\"\n",
              "              style=\"display:none;\">\n",
              "        \n",
              "  <svg xmlns=\"http://www.w3.org/2000/svg\" height=\"24px\"viewBox=\"0 0 24 24\"\n",
              "       width=\"24px\">\n",
              "    <path d=\"M0 0h24v24H0V0z\" fill=\"none\"/>\n",
              "    <path d=\"M18.56 5.44l.94 2.06.94-2.06 2.06-.94-2.06-.94-.94-2.06-.94 2.06-2.06.94zm-11 1L8.5 8.5l.94-2.06 2.06-.94-2.06-.94L8.5 2.5l-.94 2.06-2.06.94zm10 10l.94 2.06.94-2.06 2.06-.94-2.06-.94-.94-2.06-.94 2.06-2.06.94z\"/><path d=\"M17.41 7.96l-1.37-1.37c-.4-.4-.92-.59-1.43-.59-.52 0-1.04.2-1.43.59L10.3 9.45l-7.72 7.72c-.78.78-.78 2.05 0 2.83L4 21.41c.39.39.9.59 1.41.59.51 0 1.02-.2 1.41-.59l7.78-7.78 2.81-2.81c.8-.78.8-2.07 0-2.86zM5.41 20L4 18.59l7.72-7.72 1.47 1.35L5.41 20z\"/>\n",
              "  </svg>\n",
              "      </button>\n",
              "      \n",
              "  <style>\n",
              "    .colab-df-container {\n",
              "      display:flex;\n",
              "      flex-wrap:wrap;\n",
              "      gap: 12px;\n",
              "    }\n",
              "\n",
              "    .colab-df-convert {\n",
              "      background-color: #E8F0FE;\n",
              "      border: none;\n",
              "      border-radius: 50%;\n",
              "      cursor: pointer;\n",
              "      display: none;\n",
              "      fill: #1967D2;\n",
              "      height: 32px;\n",
              "      padding: 0 0 0 0;\n",
              "      width: 32px;\n",
              "    }\n",
              "\n",
              "    .colab-df-convert:hover {\n",
              "      background-color: #E2EBFA;\n",
              "      box-shadow: 0px 1px 2px rgba(60, 64, 67, 0.3), 0px 1px 3px 1px rgba(60, 64, 67, 0.15);\n",
              "      fill: #174EA6;\n",
              "    }\n",
              "\n",
              "    [theme=dark] .colab-df-convert {\n",
              "      background-color: #3B4455;\n",
              "      fill: #D2E3FC;\n",
              "    }\n",
              "\n",
              "    [theme=dark] .colab-df-convert:hover {\n",
              "      background-color: #434B5C;\n",
              "      box-shadow: 0px 1px 3px 1px rgba(0, 0, 0, 0.15);\n",
              "      filter: drop-shadow(0px 1px 2px rgba(0, 0, 0, 0.3));\n",
              "      fill: #FFFFFF;\n",
              "    }\n",
              "  </style>\n",
              "\n",
              "      <script>\n",
              "        const buttonEl =\n",
              "          document.querySelector('#df-6b6e453d-ed8e-4820-9ca4-21100f2e9a70 button.colab-df-convert');\n",
              "        buttonEl.style.display =\n",
              "          google.colab.kernel.accessAllowed ? 'block' : 'none';\n",
              "\n",
              "        async function convertToInteractive(key) {\n",
              "          const element = document.querySelector('#df-6b6e453d-ed8e-4820-9ca4-21100f2e9a70');\n",
              "          const dataTable =\n",
              "            await google.colab.kernel.invokeFunction('convertToInteractive',\n",
              "                                                     [key], {});\n",
              "          if (!dataTable) return;\n",
              "\n",
              "          const docLinkHtml = 'Like what you see? Visit the ' +\n",
              "            '<a target=\"_blank\" href=https://colab.research.google.com/notebooks/data_table.ipynb>data table notebook</a>'\n",
              "            + ' to learn more about interactive tables.';\n",
              "          element.innerHTML = '';\n",
              "          dataTable['output_type'] = 'display_data';\n",
              "          await google.colab.output.renderOutput(dataTable, element);\n",
              "          const docLink = document.createElement('div');\n",
              "          docLink.innerHTML = docLinkHtml;\n",
              "          element.appendChild(docLink);\n",
              "        }\n",
              "      </script>\n",
              "    </div>\n",
              "  </div>\n",
              "  "
            ],
            "text/plain": [
              "                    Name                                       Address  \\\n",
              "0            Safin Grill            6-65 Mall Rd, Hamilton, ON L8V 5B8   \n",
              "1     Le Chinois Express            5-65 Mall Rd, Hamilton, ON L8V 5B8   \n",
              "2                 Subway  920 Upper Wentworth St, Hamilton, ON L9A 5C5   \n",
              "3          Little Saigon            4-66 Mall Rd, Hamilton, ON L8V 5B9   \n",
              "4  Fez Family Restaurant            4-66 Mall Rd, Hamilton, ON L8V 5B9   \n",
              "\n",
              "     Phone_No  \n",
              "0  9053184444  \n",
              "1  9053880033  \n",
              "2  9053188383  \n",
              "3  9053899826  \n",
              "4  9053895773  "
            ]
          },
          "metadata": {},
          "execution_count": 152
        }
      ]
    },
    {
      "cell_type": "code",
      "source": [
        "final.to_csv('USA_Restaurants.csv')"
      ],
      "metadata": {
        "id": "333AdStX_2MQ"
      },
      "execution_count": null,
      "outputs": []
    },
    {
      "cell_type": "code",
      "source": [
        ""
      ],
      "metadata": {
        "id": "pht1SnMYALwf"
      },
      "execution_count": null,
      "outputs": []
    }
  ]
}