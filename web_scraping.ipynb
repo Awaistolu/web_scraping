{
  "nbformat": 4,
  "nbformat_minor": 0,
  "metadata": {
    "colab": {
      "name": "web_scraping",
      "provenance": [],
      "authorship_tag": "ABX9TyMYPdpzDBQfTPKA/DfXE3DT",
      "include_colab_link": true
    },
    "kernelspec": {
      "name": "python3",
      "display_name": "Python 3"
    },
    "language_info": {
      "name": "python"
    }
  },
  "cells": [
    {
      "cell_type": "markdown",
      "metadata": {
        "id": "view-in-github",
        "colab_type": "text"
      },
      "source": [
        "<a href=\"https://colab.research.google.com/github/Tolu786/web_scraping/blob/main/web_scraping.ipynb\" target=\"_parent\"><img src=\"https://colab.research.google.com/assets/colab-badge.svg\" alt=\"Open In Colab\"/></a>"
      ]
    },
    {
      "cell_type": "code",
      "execution_count": null,
      "metadata": {
        "id": "G_V1qrRTDfJ4"
      },
      "outputs": [],
      "source": [
        "import numpy as np\n",
        "import pandas as pd\n",
        "import requests\n",
        "from bs4 import BeautifulSoup"
      ]
    },
    {
      "cell_type": "code",
      "source": [
        "final=pd.DataFrame()\n",
        "for j in range(1,333):\n",
        "    url='https://www.ambitionbox.com/list-of-companies?page={}'.format(j)\n",
        "    headers={'User-Agent':'Mozilla/5.0 (Windows NT 6.3; Win64; x64)AppleWebKit/537.36 (KHTML, like Gecko) Chrome/80.0.3987.162 Safari/537.36'}\n",
        "    response=requests.get(url,headers=headers).text\n",
        "    soup=BeautifulSoup(response,'lxml')\n",
        "    company=soup.find_all('div', class_=\"company-content-wrapper\")\n",
        "\n",
        "    name=[]\n",
        "    rating=[]\n",
        "    review=[]\n",
        "    public=[]\n",
        "    loction=[]\n",
        "    old=[]\n",
        "    employees=[]\n",
        "\n",
        "    for i in company:\n",
        "\n",
        "            name.append(i.find('h2').text.strip())\n",
        "            rating.append(i.find('p', class_='rating').text.strip())\n",
        "            review.append(i.find('a', class_='review-count').text.strip())\n",
        "            try:\n",
        "                public.append(i.find_all('p', class_='infoEntity')[0].text.strip())\n",
        "            except:\n",
        "                public.append(np.nan)\n",
        "            try:\n",
        "                loction.append(i.find_all('p', class_='infoEntity')[1].text.strip())\n",
        "            except:\n",
        "                loction.append(np.nan)\n",
        "            try:\n",
        "                old.append(i.find_all('p', class_='infoEntity')[2].text.strip())\n",
        "            except:\n",
        "                old.append(np.nan)\n",
        "            try:\n",
        "                employees.append(i.find_all('p', class_='infoEntity')[3].text.strip())\n",
        "            except:\n",
        "                employees.append(np.nan)\n",
        "\n",
        "    df=pd.DataFrame({'name':name,'rating':rating,'review':review,'public':public,'employees':employees,'loction':loction,'old':old})\n",
        "    final=final.append(df, ignore_index=True)"
      ],
      "metadata": {
        "id": "L1uBumtIDf8L"
      },
      "execution_count": null,
      "outputs": []
    },
    {
      "cell_type": "code",
      "source": [
        "final.shape"
      ],
      "metadata": {
        "colab": {
          "base_uri": "https://localhost:8080/"
        },
        "id": "NTaXjdD0EFXj",
        "outputId": "6b266287-8e31-49be-ce55-288bc5fc3bf8"
      },
      "execution_count": null,
      "outputs": [
        {
          "output_type": "execute_result",
          "data": {
            "text/plain": [
              "(9958, 7)"
            ]
          },
          "metadata": {},
          "execution_count": 3
        }
      ]
    },
    {
      "cell_type": "code",
      "source": [
        "final.columns = ['name', 'rating', 'review', 'public', 'employees', 'loction',\n",
        "       'old']"
      ],
      "metadata": {
        "id": "FXxFYOxTEItj"
      },
      "execution_count": null,
      "outputs": []
    },
    {
      "cell_type": "code",
      "source": [
        "final.head()"
      ],
      "metadata": {
        "colab": {
          "base_uri": "https://localhost:8080/",
          "height": 250
        },
        "id": "gSYwXPXHFwlG",
        "outputId": "328dbb12-3807-4f00-a179-19cdd1d2ca9d"
      },
      "execution_count": null,
      "outputs": [
        {
          "output_type": "execute_result",
          "data": {
            "text/html": [
              "\n",
              "  <div id=\"df-81503a78-3f42-447a-affe-b81167c36586\">\n",
              "    <div class=\"colab-df-container\">\n",
              "      <div>\n",
              "<style scoped>\n",
              "    .dataframe tbody tr th:only-of-type {\n",
              "        vertical-align: middle;\n",
              "    }\n",
              "\n",
              "    .dataframe tbody tr th {\n",
              "        vertical-align: top;\n",
              "    }\n",
              "\n",
              "    .dataframe thead th {\n",
              "        text-align: right;\n",
              "    }\n",
              "</style>\n",
              "<table border=\"1\" class=\"dataframe\">\n",
              "  <thead>\n",
              "    <tr style=\"text-align: right;\">\n",
              "      <th></th>\n",
              "      <th>name</th>\n",
              "      <th>rating</th>\n",
              "      <th>review</th>\n",
              "      <th>public</th>\n",
              "      <th>employees</th>\n",
              "      <th>loction</th>\n",
              "      <th>old</th>\n",
              "    </tr>\n",
              "  </thead>\n",
              "  <tbody>\n",
              "    <tr>\n",
              "      <th>0</th>\n",
              "      <td>TCS</td>\n",
              "      <td>3.9</td>\n",
              "      <td>(31.4k Reviews)</td>\n",
              "      <td>Public</td>\n",
              "      <td>1 Lakh+ employees (India)</td>\n",
              "      <td>Mumbai,Maharashtra + 216 more</td>\n",
              "      <td>54 years old</td>\n",
              "    </tr>\n",
              "    <tr>\n",
              "      <th>1</th>\n",
              "      <td>Accenture</td>\n",
              "      <td>4.0</td>\n",
              "      <td>(22.3k Reviews)</td>\n",
              "      <td>Public</td>\n",
              "      <td>1 Lakh+ employees (India)</td>\n",
              "      <td>Dublin,Dublin + 124 more</td>\n",
              "      <td>33 years old</td>\n",
              "    </tr>\n",
              "    <tr>\n",
              "      <th>2</th>\n",
              "      <td>Cognizant</td>\n",
              "      <td>3.9</td>\n",
              "      <td>(20.4k Reviews)</td>\n",
              "      <td>Private</td>\n",
              "      <td>1 Lakh+ employees (India)</td>\n",
              "      <td>Teaneck,New Jersey + 77 more</td>\n",
              "      <td>28 years old</td>\n",
              "    </tr>\n",
              "    <tr>\n",
              "      <th>3</th>\n",
              "      <td>ICICI Bank</td>\n",
              "      <td>4.0</td>\n",
              "      <td>(26.6k Reviews)</td>\n",
              "      <td>Public</td>\n",
              "      <td>50k-1 Lakh employees (India)</td>\n",
              "      <td>Mumbai,Maharashtra + 923 more</td>\n",
              "      <td>28 years old</td>\n",
              "    </tr>\n",
              "    <tr>\n",
              "      <th>4</th>\n",
              "      <td>HDFC Bank</td>\n",
              "      <td>4.0</td>\n",
              "      <td>(28k Reviews)</td>\n",
              "      <td>Public</td>\n",
              "      <td>1 Lakh+ employees (India)</td>\n",
              "      <td>Mumbai,Maharashtra + 1005 more</td>\n",
              "      <td>28 years old</td>\n",
              "    </tr>\n",
              "  </tbody>\n",
              "</table>\n",
              "</div>\n",
              "      <button class=\"colab-df-convert\" onclick=\"convertToInteractive('df-81503a78-3f42-447a-affe-b81167c36586')\"\n",
              "              title=\"Convert this dataframe to an interactive table.\"\n",
              "              style=\"display:none;\">\n",
              "        \n",
              "  <svg xmlns=\"http://www.w3.org/2000/svg\" height=\"24px\"viewBox=\"0 0 24 24\"\n",
              "       width=\"24px\">\n",
              "    <path d=\"M0 0h24v24H0V0z\" fill=\"none\"/>\n",
              "    <path d=\"M18.56 5.44l.94 2.06.94-2.06 2.06-.94-2.06-.94-.94-2.06-.94 2.06-2.06.94zm-11 1L8.5 8.5l.94-2.06 2.06-.94-2.06-.94L8.5 2.5l-.94 2.06-2.06.94zm10 10l.94 2.06.94-2.06 2.06-.94-2.06-.94-.94-2.06-.94 2.06-2.06.94z\"/><path d=\"M17.41 7.96l-1.37-1.37c-.4-.4-.92-.59-1.43-.59-.52 0-1.04.2-1.43.59L10.3 9.45l-7.72 7.72c-.78.78-.78 2.05 0 2.83L4 21.41c.39.39.9.59 1.41.59.51 0 1.02-.2 1.41-.59l7.78-7.78 2.81-2.81c.8-.78.8-2.07 0-2.86zM5.41 20L4 18.59l7.72-7.72 1.47 1.35L5.41 20z\"/>\n",
              "  </svg>\n",
              "      </button>\n",
              "      \n",
              "  <style>\n",
              "    .colab-df-container {\n",
              "      display:flex;\n",
              "      flex-wrap:wrap;\n",
              "      gap: 12px;\n",
              "    }\n",
              "\n",
              "    .colab-df-convert {\n",
              "      background-color: #E8F0FE;\n",
              "      border: none;\n",
              "      border-radius: 50%;\n",
              "      cursor: pointer;\n",
              "      display: none;\n",
              "      fill: #1967D2;\n",
              "      height: 32px;\n",
              "      padding: 0 0 0 0;\n",
              "      width: 32px;\n",
              "    }\n",
              "\n",
              "    .colab-df-convert:hover {\n",
              "      background-color: #E2EBFA;\n",
              "      box-shadow: 0px 1px 2px rgba(60, 64, 67, 0.3), 0px 1px 3px 1px rgba(60, 64, 67, 0.15);\n",
              "      fill: #174EA6;\n",
              "    }\n",
              "\n",
              "    [theme=dark] .colab-df-convert {\n",
              "      background-color: #3B4455;\n",
              "      fill: #D2E3FC;\n",
              "    }\n",
              "\n",
              "    [theme=dark] .colab-df-convert:hover {\n",
              "      background-color: #434B5C;\n",
              "      box-shadow: 0px 1px 3px 1px rgba(0, 0, 0, 0.15);\n",
              "      filter: drop-shadow(0px 1px 2px rgba(0, 0, 0, 0.3));\n",
              "      fill: #FFFFFF;\n",
              "    }\n",
              "  </style>\n",
              "\n",
              "      <script>\n",
              "        const buttonEl =\n",
              "          document.querySelector('#df-81503a78-3f42-447a-affe-b81167c36586 button.colab-df-convert');\n",
              "        buttonEl.style.display =\n",
              "          google.colab.kernel.accessAllowed ? 'block' : 'none';\n",
              "\n",
              "        async function convertToInteractive(key) {\n",
              "          const element = document.querySelector('#df-81503a78-3f42-447a-affe-b81167c36586');\n",
              "          const dataTable =\n",
              "            await google.colab.kernel.invokeFunction('convertToInteractive',\n",
              "                                                     [key], {});\n",
              "          if (!dataTable) return;\n",
              "\n",
              "          const docLinkHtml = 'Like what you see? Visit the ' +\n",
              "            '<a target=\"_blank\" href=https://colab.research.google.com/notebooks/data_table.ipynb>data table notebook</a>'\n",
              "            + ' to learn more about interactive tables.';\n",
              "          element.innerHTML = '';\n",
              "          dataTable['output_type'] = 'display_data';\n",
              "          await google.colab.output.renderOutput(dataTable, element);\n",
              "          const docLink = document.createElement('div');\n",
              "          docLink.innerHTML = docLinkHtml;\n",
              "          element.appendChild(docLink);\n",
              "        }\n",
              "      </script>\n",
              "    </div>\n",
              "  </div>\n",
              "  "
            ],
            "text/plain": [
              "         name rating           review   public                     employees  \\\n",
              "0         TCS    3.9  (31.4k Reviews)   Public     1 Lakh+ employees (India)   \n",
              "1   Accenture    4.0  (22.3k Reviews)   Public     1 Lakh+ employees (India)   \n",
              "2   Cognizant    3.9  (20.4k Reviews)  Private     1 Lakh+ employees (India)   \n",
              "3  ICICI Bank    4.0  (26.6k Reviews)   Public  50k-1 Lakh employees (India)   \n",
              "4   HDFC Bank    4.0    (28k Reviews)   Public     1 Lakh+ employees (India)   \n",
              "\n",
              "                          loction           old  \n",
              "0   Mumbai,Maharashtra + 216 more  54 years old  \n",
              "1        Dublin,Dublin + 124 more  33 years old  \n",
              "2    Teaneck,New Jersey + 77 more  28 years old  \n",
              "3   Mumbai,Maharashtra + 923 more  28 years old  \n",
              "4  Mumbai,Maharashtra + 1005 more  28 years old  "
            ]
          },
          "metadata": {},
          "execution_count": 7
        }
      ]
    },
    {
      "cell_type": "code",
      "source": [
        "final.isnull().sum()"
      ],
      "metadata": {
        "colab": {
          "base_uri": "https://localhost:8080/"
        },
        "id": "NW1XHUoyGD4T",
        "outputId": "13c3ca1e-5af3-45c2-8953-77b63d7625fd"
      },
      "execution_count": null,
      "outputs": [
        {
          "output_type": "execute_result",
          "data": {
            "text/plain": [
              "name            0\n",
              "rating          0\n",
              "review          0\n",
              "public         26\n",
              "employees    2663\n",
              "loction       190\n",
              "old           618\n",
              "dtype: int64"
            ]
          },
          "metadata": {},
          "execution_count": 8
        }
      ]
    },
    {
      "cell_type": "code",
      "source": [
        "final.to_csv('List of companies in India.csv')"
      ],
      "metadata": {
        "id": "vGPB6btCGKbj"
      },
      "execution_count": null,
      "outputs": []
    },
    {
      "cell_type": "code",
      "source": [
        ""
      ],
      "metadata": {
        "id": "y4f_YvEhGYiD"
      },
      "execution_count": null,
      "outputs": []
    }
  ]
}